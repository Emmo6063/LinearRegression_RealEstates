{
  "nbformat": 4,
  "nbformat_minor": 0,
  "metadata": {
    "colab": {
      "provenance": []
    },
    "kernelspec": {
      "name": "python3",
      "display_name": "Python 3"
    },
    "language_info": {
      "name": "python"
    }
  },
  "cells": [
    {
      "cell_type": "code",
      "execution_count": 2,
      "metadata": {
        "id": "fl2icx-IS-ah"
      },
      "outputs": [],
      "source": [
        "import warnings\n",
        "warnings.filterwarnings(\"ignore\")\n",
        "\n",
        "import pandas as pd\n",
        "import numpy as np\n",
        "import matplotlib.pyplot as plt\n",
        "import seaborn as sns"
      ]
    },
    {
      "cell_type": "code",
      "source": [
        "df = pd.read_csv(\"MCSReal_Estate.csv\")\n",
        "df.head()"
      ],
      "metadata": {
        "colab": {
          "base_uri": "https://localhost:8080/",
          "height": 354
        },
        "id": "VMRaWfVYTPEp",
        "outputId": "a7aef508-9268-4461-fc6d-601811656e6e"
      },
      "execution_count": 3,
      "outputs": [
        {
          "output_type": "execute_result",
          "data": {
            "text/plain": [
              "   ids  Avg. Area Income Avg. Area House Age Avg. Area Number of Rooms  \\\n",
              "0    0      79545.458574             missing                         ?   \n",
              "1    1      79248.642455  6.0028998082752425         6.730821019094919   \n",
              "2    2      61287.067179   5.865889840310001         8.512727430375099   \n",
              "3    3      63345.240046  7.1882360945186425                         ?   \n",
              "4    4      59982.197226   5.040554523106283         7.839387785120487   \n",
              "\n",
              "   Avg. Area Number of Bedrooms  Area Population                 Price  \\\n",
              "0                           NaN     23086.800503   $1059033.5578701235   \n",
              "1                          3.09     40173.072174  Rs112941818.61352125   \n",
              "2                          5.13     36882.159400   $1058987.9878760849   \n",
              "3                           NaN     34310.242831    Rs94546260.4972085   \n",
              "4                          4.23     26354.109472    $630943.4893385402   \n",
              "\n",
              "                                             Address  Avg Area Comfort  \n",
              "0  208 Michael Ferry Apt. 674\\nLaurabury, NE 3701...          0.289937  \n",
              "1  188 Johnson Views Suite 079\\nLake Kathleen, CA...               NaN  \n",
              "2  9127 Elizabeth Stravenue\\nDanieltown, WI 06482...               NaN  \n",
              "3                          USS Barnett\\nFPO AP 44820               NaN  \n",
              "4                         USNS Raymond\\nFPO AE 09386               NaN  "
            ],
            "text/html": [
              "\n",
              "  <div id=\"df-d601a716-387e-4df9-97bd-7eea80d8b093\">\n",
              "    <div class=\"colab-df-container\">\n",
              "      <div>\n",
              "<style scoped>\n",
              "    .dataframe tbody tr th:only-of-type {\n",
              "        vertical-align: middle;\n",
              "    }\n",
              "\n",
              "    .dataframe tbody tr th {\n",
              "        vertical-align: top;\n",
              "    }\n",
              "\n",
              "    .dataframe thead th {\n",
              "        text-align: right;\n",
              "    }\n",
              "</style>\n",
              "<table border=\"1\" class=\"dataframe\">\n",
              "  <thead>\n",
              "    <tr style=\"text-align: right;\">\n",
              "      <th></th>\n",
              "      <th>ids</th>\n",
              "      <th>Avg. Area Income</th>\n",
              "      <th>Avg. Area House Age</th>\n",
              "      <th>Avg. Area Number of Rooms</th>\n",
              "      <th>Avg. Area Number of Bedrooms</th>\n",
              "      <th>Area Population</th>\n",
              "      <th>Price</th>\n",
              "      <th>Address</th>\n",
              "      <th>Avg Area Comfort</th>\n",
              "    </tr>\n",
              "  </thead>\n",
              "  <tbody>\n",
              "    <tr>\n",
              "      <th>0</th>\n",
              "      <td>0</td>\n",
              "      <td>79545.458574</td>\n",
              "      <td>missing</td>\n",
              "      <td>?</td>\n",
              "      <td>NaN</td>\n",
              "      <td>23086.800503</td>\n",
              "      <td>$1059033.5578701235</td>\n",
              "      <td>208 Michael Ferry Apt. 674\\nLaurabury, NE 3701...</td>\n",
              "      <td>0.289937</td>\n",
              "    </tr>\n",
              "    <tr>\n",
              "      <th>1</th>\n",
              "      <td>1</td>\n",
              "      <td>79248.642455</td>\n",
              "      <td>6.0028998082752425</td>\n",
              "      <td>6.730821019094919</td>\n",
              "      <td>3.09</td>\n",
              "      <td>40173.072174</td>\n",
              "      <td>Rs112941818.61352125</td>\n",
              "      <td>188 Johnson Views Suite 079\\nLake Kathleen, CA...</td>\n",
              "      <td>NaN</td>\n",
              "    </tr>\n",
              "    <tr>\n",
              "      <th>2</th>\n",
              "      <td>2</td>\n",
              "      <td>61287.067179</td>\n",
              "      <td>5.865889840310001</td>\n",
              "      <td>8.512727430375099</td>\n",
              "      <td>5.13</td>\n",
              "      <td>36882.159400</td>\n",
              "      <td>$1058987.9878760849</td>\n",
              "      <td>9127 Elizabeth Stravenue\\nDanieltown, WI 06482...</td>\n",
              "      <td>NaN</td>\n",
              "    </tr>\n",
              "    <tr>\n",
              "      <th>3</th>\n",
              "      <td>3</td>\n",
              "      <td>63345.240046</td>\n",
              "      <td>7.1882360945186425</td>\n",
              "      <td>?</td>\n",
              "      <td>NaN</td>\n",
              "      <td>34310.242831</td>\n",
              "      <td>Rs94546260.4972085</td>\n",
              "      <td>USS Barnett\\nFPO AP 44820</td>\n",
              "      <td>NaN</td>\n",
              "    </tr>\n",
              "    <tr>\n",
              "      <th>4</th>\n",
              "      <td>4</td>\n",
              "      <td>59982.197226</td>\n",
              "      <td>5.040554523106283</td>\n",
              "      <td>7.839387785120487</td>\n",
              "      <td>4.23</td>\n",
              "      <td>26354.109472</td>\n",
              "      <td>$630943.4893385402</td>\n",
              "      <td>USNS Raymond\\nFPO AE 09386</td>\n",
              "      <td>NaN</td>\n",
              "    </tr>\n",
              "  </tbody>\n",
              "</table>\n",
              "</div>\n",
              "      <button class=\"colab-df-convert\" onclick=\"convertToInteractive('df-d601a716-387e-4df9-97bd-7eea80d8b093')\"\n",
              "              title=\"Convert this dataframe to an interactive table.\"\n",
              "              style=\"display:none;\">\n",
              "        \n",
              "  <svg xmlns=\"http://www.w3.org/2000/svg\" height=\"24px\"viewBox=\"0 0 24 24\"\n",
              "       width=\"24px\">\n",
              "    <path d=\"M0 0h24v24H0V0z\" fill=\"none\"/>\n",
              "    <path d=\"M18.56 5.44l.94 2.06.94-2.06 2.06-.94-2.06-.94-.94-2.06-.94 2.06-2.06.94zm-11 1L8.5 8.5l.94-2.06 2.06-.94-2.06-.94L8.5 2.5l-.94 2.06-2.06.94zm10 10l.94 2.06.94-2.06 2.06-.94-2.06-.94-.94-2.06-.94 2.06-2.06.94z\"/><path d=\"M17.41 7.96l-1.37-1.37c-.4-.4-.92-.59-1.43-.59-.52 0-1.04.2-1.43.59L10.3 9.45l-7.72 7.72c-.78.78-.78 2.05 0 2.83L4 21.41c.39.39.9.59 1.41.59.51 0 1.02-.2 1.41-.59l7.78-7.78 2.81-2.81c.8-.78.8-2.07 0-2.86zM5.41 20L4 18.59l7.72-7.72 1.47 1.35L5.41 20z\"/>\n",
              "  </svg>\n",
              "      </button>\n",
              "      \n",
              "  <style>\n",
              "    .colab-df-container {\n",
              "      display:flex;\n",
              "      flex-wrap:wrap;\n",
              "      gap: 12px;\n",
              "    }\n",
              "\n",
              "    .colab-df-convert {\n",
              "      background-color: #E8F0FE;\n",
              "      border: none;\n",
              "      border-radius: 50%;\n",
              "      cursor: pointer;\n",
              "      display: none;\n",
              "      fill: #1967D2;\n",
              "      height: 32px;\n",
              "      padding: 0 0 0 0;\n",
              "      width: 32px;\n",
              "    }\n",
              "\n",
              "    .colab-df-convert:hover {\n",
              "      background-color: #E2EBFA;\n",
              "      box-shadow: 0px 1px 2px rgba(60, 64, 67, 0.3), 0px 1px 3px 1px rgba(60, 64, 67, 0.15);\n",
              "      fill: #174EA6;\n",
              "    }\n",
              "\n",
              "    [theme=dark] .colab-df-convert {\n",
              "      background-color: #3B4455;\n",
              "      fill: #D2E3FC;\n",
              "    }\n",
              "\n",
              "    [theme=dark] .colab-df-convert:hover {\n",
              "      background-color: #434B5C;\n",
              "      box-shadow: 0px 1px 3px 1px rgba(0, 0, 0, 0.15);\n",
              "      filter: drop-shadow(0px 1px 2px rgba(0, 0, 0, 0.3));\n",
              "      fill: #FFFFFF;\n",
              "    }\n",
              "  </style>\n",
              "\n",
              "      <script>\n",
              "        const buttonEl =\n",
              "          document.querySelector('#df-d601a716-387e-4df9-97bd-7eea80d8b093 button.colab-df-convert');\n",
              "        buttonEl.style.display =\n",
              "          google.colab.kernel.accessAllowed ? 'block' : 'none';\n",
              "\n",
              "        async function convertToInteractive(key) {\n",
              "          const element = document.querySelector('#df-d601a716-387e-4df9-97bd-7eea80d8b093');\n",
              "          const dataTable =\n",
              "            await google.colab.kernel.invokeFunction('convertToInteractive',\n",
              "                                                     [key], {});\n",
              "          if (!dataTable) return;\n",
              "\n",
              "          const docLinkHtml = 'Like what you see? Visit the ' +\n",
              "            '<a target=\"_blank\" href=https://colab.research.google.com/notebooks/data_table.ipynb>data table notebook</a>'\n",
              "            + ' to learn more about interactive tables.';\n",
              "          element.innerHTML = '';\n",
              "          dataTable['output_type'] = 'display_data';\n",
              "          await google.colab.output.renderOutput(dataTable, element);\n",
              "          const docLink = document.createElement('div');\n",
              "          docLink.innerHTML = docLinkHtml;\n",
              "          element.appendChild(docLink);\n",
              "        }\n",
              "      </script>\n",
              "    </div>\n",
              "  </div>\n",
              "  "
            ]
          },
          "metadata": {},
          "execution_count": 3
        }
      ]
    },
    {
      "cell_type": "code",
      "source": [
        "df.info()"
      ],
      "metadata": {
        "colab": {
          "base_uri": "https://localhost:8080/"
        },
        "id": "0F_3bvdjTU3e",
        "outputId": "a380a083-10c0-428f-e36f-34b9964bc025"
      },
      "execution_count": 4,
      "outputs": [
        {
          "output_type": "stream",
          "name": "stdout",
          "text": [
            "<class 'pandas.core.frame.DataFrame'>\n",
            "RangeIndex: 5000 entries, 0 to 4999\n",
            "Data columns (total 9 columns):\n",
            " #   Column                        Non-Null Count  Dtype  \n",
            "---  ------                        --------------  -----  \n",
            " 0   ids                           5000 non-null   int64  \n",
            " 1   Avg. Area Income              5000 non-null   float64\n",
            " 2   Avg. Area House Age           5000 non-null   object \n",
            " 3   Avg. Area Number of Rooms     5000 non-null   object \n",
            " 4   Avg. Area Number of Bedrooms  3333 non-null   float64\n",
            " 5   Area Population               5000 non-null   float64\n",
            " 6   Price                         5000 non-null   object \n",
            " 7   Address                       5000 non-null   object \n",
            " 8   Avg Area Comfort              200 non-null    float64\n",
            "dtypes: float64(4), int64(1), object(4)\n",
            "memory usage: 351.7+ KB\n"
          ]
        }
      ]
    },
    {
      "cell_type": "markdown",
      "source": [
        "Data has 5000 rows and 9 columns, most of the columns are in numeric in nature (i.r. int or float). Also there are object datatype which is arbitary datatype that represents collections. By observing data we can say there are some missing values in it."
      ],
      "metadata": {
        "id": "2r6bzGiuTjm5"
      }
    },
    {
      "cell_type": "code",
      "source": [
        "df.describe()"
      ],
      "metadata": {
        "colab": {
          "base_uri": "https://localhost:8080/",
          "height": 300
        },
        "id": "6lmO9u7sThwd",
        "outputId": "6319c71c-990b-4191-8f98-f0f5dd16bdce"
      },
      "execution_count": 5,
      "outputs": [
        {
          "output_type": "execute_result",
          "data": {
            "text/plain": [
              "               ids  Avg. Area Income  Avg. Area Number of Bedrooms  \\\n",
              "count  5000.000000       5000.000000                   3333.000000   \n",
              "mean   2499.500000      68583.108984                      3.998083   \n",
              "std    1443.520003      10657.991214                      1.239102   \n",
              "min       0.000000      17796.631190                      2.000000   \n",
              "25%    1249.750000      61480.562388                      3.150000   \n",
              "50%    2499.500000      68804.286404                      4.050000   \n",
              "75%    3749.250000      75783.338666                      4.500000   \n",
              "max    4999.000000     107701.748378                      6.500000   \n",
              "\n",
              "       Area Population  Avg Area Comfort  \n",
              "count      5000.000000        200.000000  \n",
              "mean      36163.516039          0.512601  \n",
              "std        9925.650114          0.282111  \n",
              "min         172.610686          0.007437  \n",
              "25%       29403.928702          0.260780  \n",
              "50%       36199.406689          0.515369  \n",
              "75%       42861.290769          0.766171  \n",
              "max       69621.713378          0.991570  "
            ],
            "text/html": [
              "\n",
              "  <div id=\"df-b3707f61-d99b-4ebc-b0b1-349516dacc3a\">\n",
              "    <div class=\"colab-df-container\">\n",
              "      <div>\n",
              "<style scoped>\n",
              "    .dataframe tbody tr th:only-of-type {\n",
              "        vertical-align: middle;\n",
              "    }\n",
              "\n",
              "    .dataframe tbody tr th {\n",
              "        vertical-align: top;\n",
              "    }\n",
              "\n",
              "    .dataframe thead th {\n",
              "        text-align: right;\n",
              "    }\n",
              "</style>\n",
              "<table border=\"1\" class=\"dataframe\">\n",
              "  <thead>\n",
              "    <tr style=\"text-align: right;\">\n",
              "      <th></th>\n",
              "      <th>ids</th>\n",
              "      <th>Avg. Area Income</th>\n",
              "      <th>Avg. Area Number of Bedrooms</th>\n",
              "      <th>Area Population</th>\n",
              "      <th>Avg Area Comfort</th>\n",
              "    </tr>\n",
              "  </thead>\n",
              "  <tbody>\n",
              "    <tr>\n",
              "      <th>count</th>\n",
              "      <td>5000.000000</td>\n",
              "      <td>5000.000000</td>\n",
              "      <td>3333.000000</td>\n",
              "      <td>5000.000000</td>\n",
              "      <td>200.000000</td>\n",
              "    </tr>\n",
              "    <tr>\n",
              "      <th>mean</th>\n",
              "      <td>2499.500000</td>\n",
              "      <td>68583.108984</td>\n",
              "      <td>3.998083</td>\n",
              "      <td>36163.516039</td>\n",
              "      <td>0.512601</td>\n",
              "    </tr>\n",
              "    <tr>\n",
              "      <th>std</th>\n",
              "      <td>1443.520003</td>\n",
              "      <td>10657.991214</td>\n",
              "      <td>1.239102</td>\n",
              "      <td>9925.650114</td>\n",
              "      <td>0.282111</td>\n",
              "    </tr>\n",
              "    <tr>\n",
              "      <th>min</th>\n",
              "      <td>0.000000</td>\n",
              "      <td>17796.631190</td>\n",
              "      <td>2.000000</td>\n",
              "      <td>172.610686</td>\n",
              "      <td>0.007437</td>\n",
              "    </tr>\n",
              "    <tr>\n",
              "      <th>25%</th>\n",
              "      <td>1249.750000</td>\n",
              "      <td>61480.562388</td>\n",
              "      <td>3.150000</td>\n",
              "      <td>29403.928702</td>\n",
              "      <td>0.260780</td>\n",
              "    </tr>\n",
              "    <tr>\n",
              "      <th>50%</th>\n",
              "      <td>2499.500000</td>\n",
              "      <td>68804.286404</td>\n",
              "      <td>4.050000</td>\n",
              "      <td>36199.406689</td>\n",
              "      <td>0.515369</td>\n",
              "    </tr>\n",
              "    <tr>\n",
              "      <th>75%</th>\n",
              "      <td>3749.250000</td>\n",
              "      <td>75783.338666</td>\n",
              "      <td>4.500000</td>\n",
              "      <td>42861.290769</td>\n",
              "      <td>0.766171</td>\n",
              "    </tr>\n",
              "    <tr>\n",
              "      <th>max</th>\n",
              "      <td>4999.000000</td>\n",
              "      <td>107701.748378</td>\n",
              "      <td>6.500000</td>\n",
              "      <td>69621.713378</td>\n",
              "      <td>0.991570</td>\n",
              "    </tr>\n",
              "  </tbody>\n",
              "</table>\n",
              "</div>\n",
              "      <button class=\"colab-df-convert\" onclick=\"convertToInteractive('df-b3707f61-d99b-4ebc-b0b1-349516dacc3a')\"\n",
              "              title=\"Convert this dataframe to an interactive table.\"\n",
              "              style=\"display:none;\">\n",
              "        \n",
              "  <svg xmlns=\"http://www.w3.org/2000/svg\" height=\"24px\"viewBox=\"0 0 24 24\"\n",
              "       width=\"24px\">\n",
              "    <path d=\"M0 0h24v24H0V0z\" fill=\"none\"/>\n",
              "    <path d=\"M18.56 5.44l.94 2.06.94-2.06 2.06-.94-2.06-.94-.94-2.06-.94 2.06-2.06.94zm-11 1L8.5 8.5l.94-2.06 2.06-.94-2.06-.94L8.5 2.5l-.94 2.06-2.06.94zm10 10l.94 2.06.94-2.06 2.06-.94-2.06-.94-.94-2.06-.94 2.06-2.06.94z\"/><path d=\"M17.41 7.96l-1.37-1.37c-.4-.4-.92-.59-1.43-.59-.52 0-1.04.2-1.43.59L10.3 9.45l-7.72 7.72c-.78.78-.78 2.05 0 2.83L4 21.41c.39.39.9.59 1.41.59.51 0 1.02-.2 1.41-.59l7.78-7.78 2.81-2.81c.8-.78.8-2.07 0-2.86zM5.41 20L4 18.59l7.72-7.72 1.47 1.35L5.41 20z\"/>\n",
              "  </svg>\n",
              "      </button>\n",
              "      \n",
              "  <style>\n",
              "    .colab-df-container {\n",
              "      display:flex;\n",
              "      flex-wrap:wrap;\n",
              "      gap: 12px;\n",
              "    }\n",
              "\n",
              "    .colab-df-convert {\n",
              "      background-color: #E8F0FE;\n",
              "      border: none;\n",
              "      border-radius: 50%;\n",
              "      cursor: pointer;\n",
              "      display: none;\n",
              "      fill: #1967D2;\n",
              "      height: 32px;\n",
              "      padding: 0 0 0 0;\n",
              "      width: 32px;\n",
              "    }\n",
              "\n",
              "    .colab-df-convert:hover {\n",
              "      background-color: #E2EBFA;\n",
              "      box-shadow: 0px 1px 2px rgba(60, 64, 67, 0.3), 0px 1px 3px 1px rgba(60, 64, 67, 0.15);\n",
              "      fill: #174EA6;\n",
              "    }\n",
              "\n",
              "    [theme=dark] .colab-df-convert {\n",
              "      background-color: #3B4455;\n",
              "      fill: #D2E3FC;\n",
              "    }\n",
              "\n",
              "    [theme=dark] .colab-df-convert:hover {\n",
              "      background-color: #434B5C;\n",
              "      box-shadow: 0px 1px 3px 1px rgba(0, 0, 0, 0.15);\n",
              "      filter: drop-shadow(0px 1px 2px rgba(0, 0, 0, 0.3));\n",
              "      fill: #FFFFFF;\n",
              "    }\n",
              "  </style>\n",
              "\n",
              "      <script>\n",
              "        const buttonEl =\n",
              "          document.querySelector('#df-b3707f61-d99b-4ebc-b0b1-349516dacc3a button.colab-df-convert');\n",
              "        buttonEl.style.display =\n",
              "          google.colab.kernel.accessAllowed ? 'block' : 'none';\n",
              "\n",
              "        async function convertToInteractive(key) {\n",
              "          const element = document.querySelector('#df-b3707f61-d99b-4ebc-b0b1-349516dacc3a');\n",
              "          const dataTable =\n",
              "            await google.colab.kernel.invokeFunction('convertToInteractive',\n",
              "                                                     [key], {});\n",
              "          if (!dataTable) return;\n",
              "\n",
              "          const docLinkHtml = 'Like what you see? Visit the ' +\n",
              "            '<a target=\"_blank\" href=https://colab.research.google.com/notebooks/data_table.ipynb>data table notebook</a>'\n",
              "            + ' to learn more about interactive tables.';\n",
              "          element.innerHTML = '';\n",
              "          dataTable['output_type'] = 'display_data';\n",
              "          await google.colab.output.renderOutput(dataTable, element);\n",
              "          const docLink = document.createElement('div');\n",
              "          docLink.innerHTML = docLinkHtml;\n",
              "          element.appendChild(docLink);\n",
              "        }\n",
              "      </script>\n",
              "    </div>\n",
              "  </div>\n",
              "  "
            ]
          },
          "metadata": {},
          "execution_count": 5
        }
      ]
    },
    {
      "cell_type": "code",
      "source": [
        "df[\"Price\"] = df[\"Price\"].str.replace(\"[$Rs]\", \"\")"
      ],
      "metadata": {
        "id": "r5YP-u33UIei"
      },
      "execution_count": 6,
      "outputs": []
    },
    {
      "cell_type": "code",
      "source": [
        "df[\"Price\"] = df[\"Price\"].astype(\"float64\")"
      ],
      "metadata": {
        "id": "k6HZrc8AXZYs"
      },
      "execution_count": 7,
      "outputs": []
    },
    {
      "cell_type": "code",
      "source": [
        "df[\"Price\"]"
      ],
      "metadata": {
        "colab": {
          "base_uri": "https://localhost:8080/"
        },
        "id": "inOX9nAFXlDi",
        "outputId": "db83320f-5e9c-4a16-c839-c9e4e128d491"
      },
      "execution_count": 8,
      "outputs": [
        {
          "output_type": "execute_result",
          "data": {
            "text/plain": [
              "0       1.059034e+06\n",
              "1       1.129418e+08\n",
              "2       1.058988e+06\n",
              "3       9.454626e+07\n",
              "4       6.309435e+05\n",
              "            ...     \n",
              "4995    7.951453e+07\n",
              "4996    1.482618e+06\n",
              "4997    7.730472e+07\n",
              "4998    1.198657e+06\n",
              "4999    9.742129e+07\n",
              "Name: Price, Length: 5000, dtype: float64"
            ]
          },
          "metadata": {},
          "execution_count": 8
        }
      ]
    },
    {
      "cell_type": "code",
      "source": [
        "price = []\n",
        "\n",
        "for i, p in df[[\"Price\"]].itertuples():\n",
        "  if(i%2==0):\n",
        "    price.append(p)\n",
        "  else:\n",
        "    price.append(p/75)"
      ],
      "metadata": {
        "id": "qBF19RLyX7-Y"
      },
      "execution_count": 9,
      "outputs": []
    },
    {
      "cell_type": "code",
      "source": [
        "df[\"Price\"]=price"
      ],
      "metadata": {
        "id": "C10jxrfHkWJT"
      },
      "execution_count": 10,
      "outputs": []
    },
    {
      "cell_type": "code",
      "source": [
        "df.info()"
      ],
      "metadata": {
        "colab": {
          "base_uri": "https://localhost:8080/"
        },
        "id": "h5MwwN-8kgUw",
        "outputId": "116e81cb-c8a6-42cb-df06-404d1dce23f5"
      },
      "execution_count": 11,
      "outputs": [
        {
          "output_type": "stream",
          "name": "stdout",
          "text": [
            "<class 'pandas.core.frame.DataFrame'>\n",
            "RangeIndex: 5000 entries, 0 to 4999\n",
            "Data columns (total 9 columns):\n",
            " #   Column                        Non-Null Count  Dtype  \n",
            "---  ------                        --------------  -----  \n",
            " 0   ids                           5000 non-null   int64  \n",
            " 1   Avg. Area Income              5000 non-null   float64\n",
            " 2   Avg. Area House Age           5000 non-null   object \n",
            " 3   Avg. Area Number of Rooms     5000 non-null   object \n",
            " 4   Avg. Area Number of Bedrooms  3333 non-null   float64\n",
            " 5   Area Population               5000 non-null   float64\n",
            " 6   Price                         5000 non-null   float64\n",
            " 7   Address                       5000 non-null   object \n",
            " 8   Avg Area Comfort              200 non-null    float64\n",
            "dtypes: float64(5), int64(1), object(3)\n",
            "memory usage: 351.7+ KB\n"
          ]
        }
      ]
    },
    {
      "cell_type": "code",
      "source": [
        "df.head()"
      ],
      "metadata": {
        "colab": {
          "base_uri": "https://localhost:8080/",
          "height": 320
        },
        "id": "y6V0q3XakigZ",
        "outputId": "8cafc465-5a1b-4cbc-fc55-10198fd56c01"
      },
      "execution_count": 12,
      "outputs": [
        {
          "output_type": "execute_result",
          "data": {
            "text/plain": [
              "   ids  Avg. Area Income Avg. Area House Age Avg. Area Number of Rooms  \\\n",
              "0    0      79545.458574             missing                         ?   \n",
              "1    1      79248.642455  6.0028998082752425         6.730821019094919   \n",
              "2    2      61287.067179   5.865889840310001         8.512727430375099   \n",
              "3    3      63345.240046  7.1882360945186425                         ?   \n",
              "4    4      59982.197226   5.040554523106283         7.839387785120487   \n",
              "\n",
              "   Avg. Area Number of Bedrooms  Area Population         Price  \\\n",
              "0                           NaN     23086.800503  1.059034e+06   \n",
              "1                          3.09     40173.072174  1.505891e+06   \n",
              "2                          5.13     36882.159400  1.058988e+06   \n",
              "3                           NaN     34310.242831  1.260617e+06   \n",
              "4                          4.23     26354.109472  6.309435e+05   \n",
              "\n",
              "                                             Address  Avg Area Comfort  \n",
              "0  208 Michael Ferry Apt. 674\\nLaurabury, NE 3701...          0.289937  \n",
              "1  188 Johnson Views Suite 079\\nLake Kathleen, CA...               NaN  \n",
              "2  9127 Elizabeth Stravenue\\nDanieltown, WI 06482...               NaN  \n",
              "3                          USS Barnett\\nFPO AP 44820               NaN  \n",
              "4                         USNS Raymond\\nFPO AE 09386               NaN  "
            ],
            "text/html": [
              "\n",
              "  <div id=\"df-5c6d40bd-daa0-49ae-9d0d-05771fb75053\">\n",
              "    <div class=\"colab-df-container\">\n",
              "      <div>\n",
              "<style scoped>\n",
              "    .dataframe tbody tr th:only-of-type {\n",
              "        vertical-align: middle;\n",
              "    }\n",
              "\n",
              "    .dataframe tbody tr th {\n",
              "        vertical-align: top;\n",
              "    }\n",
              "\n",
              "    .dataframe thead th {\n",
              "        text-align: right;\n",
              "    }\n",
              "</style>\n",
              "<table border=\"1\" class=\"dataframe\">\n",
              "  <thead>\n",
              "    <tr style=\"text-align: right;\">\n",
              "      <th></th>\n",
              "      <th>ids</th>\n",
              "      <th>Avg. Area Income</th>\n",
              "      <th>Avg. Area House Age</th>\n",
              "      <th>Avg. Area Number of Rooms</th>\n",
              "      <th>Avg. Area Number of Bedrooms</th>\n",
              "      <th>Area Population</th>\n",
              "      <th>Price</th>\n",
              "      <th>Address</th>\n",
              "      <th>Avg Area Comfort</th>\n",
              "    </tr>\n",
              "  </thead>\n",
              "  <tbody>\n",
              "    <tr>\n",
              "      <th>0</th>\n",
              "      <td>0</td>\n",
              "      <td>79545.458574</td>\n",
              "      <td>missing</td>\n",
              "      <td>?</td>\n",
              "      <td>NaN</td>\n",
              "      <td>23086.800503</td>\n",
              "      <td>1.059034e+06</td>\n",
              "      <td>208 Michael Ferry Apt. 674\\nLaurabury, NE 3701...</td>\n",
              "      <td>0.289937</td>\n",
              "    </tr>\n",
              "    <tr>\n",
              "      <th>1</th>\n",
              "      <td>1</td>\n",
              "      <td>79248.642455</td>\n",
              "      <td>6.0028998082752425</td>\n",
              "      <td>6.730821019094919</td>\n",
              "      <td>3.09</td>\n",
              "      <td>40173.072174</td>\n",
              "      <td>1.505891e+06</td>\n",
              "      <td>188 Johnson Views Suite 079\\nLake Kathleen, CA...</td>\n",
              "      <td>NaN</td>\n",
              "    </tr>\n",
              "    <tr>\n",
              "      <th>2</th>\n",
              "      <td>2</td>\n",
              "      <td>61287.067179</td>\n",
              "      <td>5.865889840310001</td>\n",
              "      <td>8.512727430375099</td>\n",
              "      <td>5.13</td>\n",
              "      <td>36882.159400</td>\n",
              "      <td>1.058988e+06</td>\n",
              "      <td>9127 Elizabeth Stravenue\\nDanieltown, WI 06482...</td>\n",
              "      <td>NaN</td>\n",
              "    </tr>\n",
              "    <tr>\n",
              "      <th>3</th>\n",
              "      <td>3</td>\n",
              "      <td>63345.240046</td>\n",
              "      <td>7.1882360945186425</td>\n",
              "      <td>?</td>\n",
              "      <td>NaN</td>\n",
              "      <td>34310.242831</td>\n",
              "      <td>1.260617e+06</td>\n",
              "      <td>USS Barnett\\nFPO AP 44820</td>\n",
              "      <td>NaN</td>\n",
              "    </tr>\n",
              "    <tr>\n",
              "      <th>4</th>\n",
              "      <td>4</td>\n",
              "      <td>59982.197226</td>\n",
              "      <td>5.040554523106283</td>\n",
              "      <td>7.839387785120487</td>\n",
              "      <td>4.23</td>\n",
              "      <td>26354.109472</td>\n",
              "      <td>6.309435e+05</td>\n",
              "      <td>USNS Raymond\\nFPO AE 09386</td>\n",
              "      <td>NaN</td>\n",
              "    </tr>\n",
              "  </tbody>\n",
              "</table>\n",
              "</div>\n",
              "      <button class=\"colab-df-convert\" onclick=\"convertToInteractive('df-5c6d40bd-daa0-49ae-9d0d-05771fb75053')\"\n",
              "              title=\"Convert this dataframe to an interactive table.\"\n",
              "              style=\"display:none;\">\n",
              "        \n",
              "  <svg xmlns=\"http://www.w3.org/2000/svg\" height=\"24px\"viewBox=\"0 0 24 24\"\n",
              "       width=\"24px\">\n",
              "    <path d=\"M0 0h24v24H0V0z\" fill=\"none\"/>\n",
              "    <path d=\"M18.56 5.44l.94 2.06.94-2.06 2.06-.94-2.06-.94-.94-2.06-.94 2.06-2.06.94zm-11 1L8.5 8.5l.94-2.06 2.06-.94-2.06-.94L8.5 2.5l-.94 2.06-2.06.94zm10 10l.94 2.06.94-2.06 2.06-.94-2.06-.94-.94-2.06-.94 2.06-2.06.94z\"/><path d=\"M17.41 7.96l-1.37-1.37c-.4-.4-.92-.59-1.43-.59-.52 0-1.04.2-1.43.59L10.3 9.45l-7.72 7.72c-.78.78-.78 2.05 0 2.83L4 21.41c.39.39.9.59 1.41.59.51 0 1.02-.2 1.41-.59l7.78-7.78 2.81-2.81c.8-.78.8-2.07 0-2.86zM5.41 20L4 18.59l7.72-7.72 1.47 1.35L5.41 20z\"/>\n",
              "  </svg>\n",
              "      </button>\n",
              "      \n",
              "  <style>\n",
              "    .colab-df-container {\n",
              "      display:flex;\n",
              "      flex-wrap:wrap;\n",
              "      gap: 12px;\n",
              "    }\n",
              "\n",
              "    .colab-df-convert {\n",
              "      background-color: #E8F0FE;\n",
              "      border: none;\n",
              "      border-radius: 50%;\n",
              "      cursor: pointer;\n",
              "      display: none;\n",
              "      fill: #1967D2;\n",
              "      height: 32px;\n",
              "      padding: 0 0 0 0;\n",
              "      width: 32px;\n",
              "    }\n",
              "\n",
              "    .colab-df-convert:hover {\n",
              "      background-color: #E2EBFA;\n",
              "      box-shadow: 0px 1px 2px rgba(60, 64, 67, 0.3), 0px 1px 3px 1px rgba(60, 64, 67, 0.15);\n",
              "      fill: #174EA6;\n",
              "    }\n",
              "\n",
              "    [theme=dark] .colab-df-convert {\n",
              "      background-color: #3B4455;\n",
              "      fill: #D2E3FC;\n",
              "    }\n",
              "\n",
              "    [theme=dark] .colab-df-convert:hover {\n",
              "      background-color: #434B5C;\n",
              "      box-shadow: 0px 1px 3px 1px rgba(0, 0, 0, 0.15);\n",
              "      filter: drop-shadow(0px 1px 2px rgba(0, 0, 0, 0.3));\n",
              "      fill: #FFFFFF;\n",
              "    }\n",
              "  </style>\n",
              "\n",
              "      <script>\n",
              "        const buttonEl =\n",
              "          document.querySelector('#df-5c6d40bd-daa0-49ae-9d0d-05771fb75053 button.colab-df-convert');\n",
              "        buttonEl.style.display =\n",
              "          google.colab.kernel.accessAllowed ? 'block' : 'none';\n",
              "\n",
              "        async function convertToInteractive(key) {\n",
              "          const element = document.querySelector('#df-5c6d40bd-daa0-49ae-9d0d-05771fb75053');\n",
              "          const dataTable =\n",
              "            await google.colab.kernel.invokeFunction('convertToInteractive',\n",
              "                                                     [key], {});\n",
              "          if (!dataTable) return;\n",
              "\n",
              "          const docLinkHtml = 'Like what you see? Visit the ' +\n",
              "            '<a target=\"_blank\" href=https://colab.research.google.com/notebooks/data_table.ipynb>data table notebook</a>'\n",
              "            + ' to learn more about interactive tables.';\n",
              "          element.innerHTML = '';\n",
              "          dataTable['output_type'] = 'display_data';\n",
              "          await google.colab.output.renderOutput(dataTable, element);\n",
              "          const docLink = document.createElement('div');\n",
              "          docLink.innerHTML = docLinkHtml;\n",
              "          element.appendChild(docLink);\n",
              "        }\n",
              "      </script>\n",
              "    </div>\n",
              "  </div>\n",
              "  "
            ]
          },
          "metadata": {},
          "execution_count": 12
        }
      ]
    },
    {
      "cell_type": "code",
      "source": [
        "def givestate(x):\n",
        "  return x.split(\" \")[-2]"
      ],
      "metadata": {
        "id": "JdS8T0gnZLve"
      },
      "execution_count": 13,
      "outputs": []
    },
    {
      "cell_type": "code",
      "source": [
        "df[\"State\"] = df.Address.apply(givestate)"
      ],
      "metadata": {
        "id": "KPS8uQP9ZYLZ"
      },
      "execution_count": 14,
      "outputs": []
    },
    {
      "cell_type": "code",
      "source": [
        "df.head(10)"
      ],
      "metadata": {
        "colab": {
          "base_uri": "https://localhost:8080/",
          "height": 581
        },
        "id": "s8Js4zLWZhry",
        "outputId": "181a4c5d-7e30-44cb-8dd0-40bb97fdb686"
      },
      "execution_count": 15,
      "outputs": [
        {
          "output_type": "execute_result",
          "data": {
            "text/plain": [
              "   ids  Avg. Area Income Avg. Area House Age Avg. Area Number of Rooms  \\\n",
              "0    0      79545.458574             missing                         ?   \n",
              "1    1      79248.642455  6.0028998082752425         6.730821019094919   \n",
              "2    2      61287.067179   5.865889840310001         8.512727430375099   \n",
              "3    3      63345.240046  7.1882360945186425                         ?   \n",
              "4    4      59982.197226   5.040554523106283         7.839387785120487   \n",
              "5    5      80175.754159  4.9884077575337145         6.104512439428879   \n",
              "6    6      64698.463428   6.025335906887153                         ?   \n",
              "7    7      78394.339278  6.9897797477182815         6.620477995185026   \n",
              "8    8      59927.660813    5.36212556960358        6.3931209805509015   \n",
              "9    9      81885.927184   4.423671789897876                         ?   \n",
              "\n",
              "   Avg. Area Number of Bedrooms  Area Population         Price  \\\n",
              "0                           NaN     23086.800503  1.059034e+06   \n",
              "1                          3.09     40173.072174  1.505891e+06   \n",
              "2                          5.13     36882.159400  1.058988e+06   \n",
              "3                           NaN     34310.242831  1.260617e+06   \n",
              "4                          4.23     26354.109472  6.309435e+05   \n",
              "5                          4.04     26748.428425  1.068138e+06   \n",
              "6                           NaN     60828.249085  1.502056e+06   \n",
              "7                          2.42     36516.358972  1.573937e+06   \n",
              "8                          2.30     29387.396003  7.988695e+05   \n",
              "9                           NaN     40149.965749  1.545155e+06   \n",
              "\n",
              "                                             Address  Avg Area Comfort State  \n",
              "0  208 Michael Ferry Apt. 674\\nLaurabury, NE 3701...          0.289937    NE  \n",
              "1  188 Johnson Views Suite 079\\nLake Kathleen, CA...               NaN    CA  \n",
              "2  9127 Elizabeth Stravenue\\nDanieltown, WI 06482...               NaN    WI  \n",
              "3                          USS Barnett\\nFPO AP 44820               NaN    AP  \n",
              "4                         USNS Raymond\\nFPO AE 09386               NaN    AE  \n",
              "5  06039 Jennifer Islands Apt. 443\\nTracyport, KS...               NaN    KS  \n",
              "6  4759 Daniel Shoals Suite 442\\nNguyenburgh, CO ...               NaN    CO  \n",
              "7     972 Joyce Viaduct\\nLake William, TN 17778-6483               NaN    TN  \n",
              "8                          USS Gilbert\\nFPO AA 20957               NaN    AA  \n",
              "9                   Unit 9446 Box 0958\\nDPO AE 97025               NaN    AE  "
            ],
            "text/html": [
              "\n",
              "  <div id=\"df-7fda618d-85ba-446f-9bdc-4c7fe809bbef\">\n",
              "    <div class=\"colab-df-container\">\n",
              "      <div>\n",
              "<style scoped>\n",
              "    .dataframe tbody tr th:only-of-type {\n",
              "        vertical-align: middle;\n",
              "    }\n",
              "\n",
              "    .dataframe tbody tr th {\n",
              "        vertical-align: top;\n",
              "    }\n",
              "\n",
              "    .dataframe thead th {\n",
              "        text-align: right;\n",
              "    }\n",
              "</style>\n",
              "<table border=\"1\" class=\"dataframe\">\n",
              "  <thead>\n",
              "    <tr style=\"text-align: right;\">\n",
              "      <th></th>\n",
              "      <th>ids</th>\n",
              "      <th>Avg. Area Income</th>\n",
              "      <th>Avg. Area House Age</th>\n",
              "      <th>Avg. Area Number of Rooms</th>\n",
              "      <th>Avg. Area Number of Bedrooms</th>\n",
              "      <th>Area Population</th>\n",
              "      <th>Price</th>\n",
              "      <th>Address</th>\n",
              "      <th>Avg Area Comfort</th>\n",
              "      <th>State</th>\n",
              "    </tr>\n",
              "  </thead>\n",
              "  <tbody>\n",
              "    <tr>\n",
              "      <th>0</th>\n",
              "      <td>0</td>\n",
              "      <td>79545.458574</td>\n",
              "      <td>missing</td>\n",
              "      <td>?</td>\n",
              "      <td>NaN</td>\n",
              "      <td>23086.800503</td>\n",
              "      <td>1.059034e+06</td>\n",
              "      <td>208 Michael Ferry Apt. 674\\nLaurabury, NE 3701...</td>\n",
              "      <td>0.289937</td>\n",
              "      <td>NE</td>\n",
              "    </tr>\n",
              "    <tr>\n",
              "      <th>1</th>\n",
              "      <td>1</td>\n",
              "      <td>79248.642455</td>\n",
              "      <td>6.0028998082752425</td>\n",
              "      <td>6.730821019094919</td>\n",
              "      <td>3.09</td>\n",
              "      <td>40173.072174</td>\n",
              "      <td>1.505891e+06</td>\n",
              "      <td>188 Johnson Views Suite 079\\nLake Kathleen, CA...</td>\n",
              "      <td>NaN</td>\n",
              "      <td>CA</td>\n",
              "    </tr>\n",
              "    <tr>\n",
              "      <th>2</th>\n",
              "      <td>2</td>\n",
              "      <td>61287.067179</td>\n",
              "      <td>5.865889840310001</td>\n",
              "      <td>8.512727430375099</td>\n",
              "      <td>5.13</td>\n",
              "      <td>36882.159400</td>\n",
              "      <td>1.058988e+06</td>\n",
              "      <td>9127 Elizabeth Stravenue\\nDanieltown, WI 06482...</td>\n",
              "      <td>NaN</td>\n",
              "      <td>WI</td>\n",
              "    </tr>\n",
              "    <tr>\n",
              "      <th>3</th>\n",
              "      <td>3</td>\n",
              "      <td>63345.240046</td>\n",
              "      <td>7.1882360945186425</td>\n",
              "      <td>?</td>\n",
              "      <td>NaN</td>\n",
              "      <td>34310.242831</td>\n",
              "      <td>1.260617e+06</td>\n",
              "      <td>USS Barnett\\nFPO AP 44820</td>\n",
              "      <td>NaN</td>\n",
              "      <td>AP</td>\n",
              "    </tr>\n",
              "    <tr>\n",
              "      <th>4</th>\n",
              "      <td>4</td>\n",
              "      <td>59982.197226</td>\n",
              "      <td>5.040554523106283</td>\n",
              "      <td>7.839387785120487</td>\n",
              "      <td>4.23</td>\n",
              "      <td>26354.109472</td>\n",
              "      <td>6.309435e+05</td>\n",
              "      <td>USNS Raymond\\nFPO AE 09386</td>\n",
              "      <td>NaN</td>\n",
              "      <td>AE</td>\n",
              "    </tr>\n",
              "    <tr>\n",
              "      <th>5</th>\n",
              "      <td>5</td>\n",
              "      <td>80175.754159</td>\n",
              "      <td>4.9884077575337145</td>\n",
              "      <td>6.104512439428879</td>\n",
              "      <td>4.04</td>\n",
              "      <td>26748.428425</td>\n",
              "      <td>1.068138e+06</td>\n",
              "      <td>06039 Jennifer Islands Apt. 443\\nTracyport, KS...</td>\n",
              "      <td>NaN</td>\n",
              "      <td>KS</td>\n",
              "    </tr>\n",
              "    <tr>\n",
              "      <th>6</th>\n",
              "      <td>6</td>\n",
              "      <td>64698.463428</td>\n",
              "      <td>6.025335906887153</td>\n",
              "      <td>?</td>\n",
              "      <td>NaN</td>\n",
              "      <td>60828.249085</td>\n",
              "      <td>1.502056e+06</td>\n",
              "      <td>4759 Daniel Shoals Suite 442\\nNguyenburgh, CO ...</td>\n",
              "      <td>NaN</td>\n",
              "      <td>CO</td>\n",
              "    </tr>\n",
              "    <tr>\n",
              "      <th>7</th>\n",
              "      <td>7</td>\n",
              "      <td>78394.339278</td>\n",
              "      <td>6.9897797477182815</td>\n",
              "      <td>6.620477995185026</td>\n",
              "      <td>2.42</td>\n",
              "      <td>36516.358972</td>\n",
              "      <td>1.573937e+06</td>\n",
              "      <td>972 Joyce Viaduct\\nLake William, TN 17778-6483</td>\n",
              "      <td>NaN</td>\n",
              "      <td>TN</td>\n",
              "    </tr>\n",
              "    <tr>\n",
              "      <th>8</th>\n",
              "      <td>8</td>\n",
              "      <td>59927.660813</td>\n",
              "      <td>5.36212556960358</td>\n",
              "      <td>6.3931209805509015</td>\n",
              "      <td>2.30</td>\n",
              "      <td>29387.396003</td>\n",
              "      <td>7.988695e+05</td>\n",
              "      <td>USS Gilbert\\nFPO AA 20957</td>\n",
              "      <td>NaN</td>\n",
              "      <td>AA</td>\n",
              "    </tr>\n",
              "    <tr>\n",
              "      <th>9</th>\n",
              "      <td>9</td>\n",
              "      <td>81885.927184</td>\n",
              "      <td>4.423671789897876</td>\n",
              "      <td>?</td>\n",
              "      <td>NaN</td>\n",
              "      <td>40149.965749</td>\n",
              "      <td>1.545155e+06</td>\n",
              "      <td>Unit 9446 Box 0958\\nDPO AE 97025</td>\n",
              "      <td>NaN</td>\n",
              "      <td>AE</td>\n",
              "    </tr>\n",
              "  </tbody>\n",
              "</table>\n",
              "</div>\n",
              "      <button class=\"colab-df-convert\" onclick=\"convertToInteractive('df-7fda618d-85ba-446f-9bdc-4c7fe809bbef')\"\n",
              "              title=\"Convert this dataframe to an interactive table.\"\n",
              "              style=\"display:none;\">\n",
              "        \n",
              "  <svg xmlns=\"http://www.w3.org/2000/svg\" height=\"24px\"viewBox=\"0 0 24 24\"\n",
              "       width=\"24px\">\n",
              "    <path d=\"M0 0h24v24H0V0z\" fill=\"none\"/>\n",
              "    <path d=\"M18.56 5.44l.94 2.06.94-2.06 2.06-.94-2.06-.94-.94-2.06-.94 2.06-2.06.94zm-11 1L8.5 8.5l.94-2.06 2.06-.94-2.06-.94L8.5 2.5l-.94 2.06-2.06.94zm10 10l.94 2.06.94-2.06 2.06-.94-2.06-.94-.94-2.06-.94 2.06-2.06.94z\"/><path d=\"M17.41 7.96l-1.37-1.37c-.4-.4-.92-.59-1.43-.59-.52 0-1.04.2-1.43.59L10.3 9.45l-7.72 7.72c-.78.78-.78 2.05 0 2.83L4 21.41c.39.39.9.59 1.41.59.51 0 1.02-.2 1.41-.59l7.78-7.78 2.81-2.81c.8-.78.8-2.07 0-2.86zM5.41 20L4 18.59l7.72-7.72 1.47 1.35L5.41 20z\"/>\n",
              "  </svg>\n",
              "      </button>\n",
              "      \n",
              "  <style>\n",
              "    .colab-df-container {\n",
              "      display:flex;\n",
              "      flex-wrap:wrap;\n",
              "      gap: 12px;\n",
              "    }\n",
              "\n",
              "    .colab-df-convert {\n",
              "      background-color: #E8F0FE;\n",
              "      border: none;\n",
              "      border-radius: 50%;\n",
              "      cursor: pointer;\n",
              "      display: none;\n",
              "      fill: #1967D2;\n",
              "      height: 32px;\n",
              "      padding: 0 0 0 0;\n",
              "      width: 32px;\n",
              "    }\n",
              "\n",
              "    .colab-df-convert:hover {\n",
              "      background-color: #E2EBFA;\n",
              "      box-shadow: 0px 1px 2px rgba(60, 64, 67, 0.3), 0px 1px 3px 1px rgba(60, 64, 67, 0.15);\n",
              "      fill: #174EA6;\n",
              "    }\n",
              "\n",
              "    [theme=dark] .colab-df-convert {\n",
              "      background-color: #3B4455;\n",
              "      fill: #D2E3FC;\n",
              "    }\n",
              "\n",
              "    [theme=dark] .colab-df-convert:hover {\n",
              "      background-color: #434B5C;\n",
              "      box-shadow: 0px 1px 3px 1px rgba(0, 0, 0, 0.15);\n",
              "      filter: drop-shadow(0px 1px 2px rgba(0, 0, 0, 0.3));\n",
              "      fill: #FFFFFF;\n",
              "    }\n",
              "  </style>\n",
              "\n",
              "      <script>\n",
              "        const buttonEl =\n",
              "          document.querySelector('#df-7fda618d-85ba-446f-9bdc-4c7fe809bbef button.colab-df-convert');\n",
              "        buttonEl.style.display =\n",
              "          google.colab.kernel.accessAllowed ? 'block' : 'none';\n",
              "\n",
              "        async function convertToInteractive(key) {\n",
              "          const element = document.querySelector('#df-7fda618d-85ba-446f-9bdc-4c7fe809bbef');\n",
              "          const dataTable =\n",
              "            await google.colab.kernel.invokeFunction('convertToInteractive',\n",
              "                                                     [key], {});\n",
              "          if (!dataTable) return;\n",
              "\n",
              "          const docLinkHtml = 'Like what you see? Visit the ' +\n",
              "            '<a target=\"_blank\" href=https://colab.research.google.com/notebooks/data_table.ipynb>data table notebook</a>'\n",
              "            + ' to learn more about interactive tables.';\n",
              "          element.innerHTML = '';\n",
              "          dataTable['output_type'] = 'display_data';\n",
              "          await google.colab.output.renderOutput(dataTable, element);\n",
              "          const docLink = document.createElement('div');\n",
              "          docLink.innerHTML = docLinkHtml;\n",
              "          element.appendChild(docLink);\n",
              "        }\n",
              "      </script>\n",
              "    </div>\n",
              "  </div>\n",
              "  "
            ]
          },
          "metadata": {},
          "execution_count": 15
        }
      ]
    },
    {
      "cell_type": "code",
      "source": [
        "df[\"Avg. Area House Age\"].replace(\"missing\", np.nan, inplace=True)\n",
        "df[\"Avg. Area Number of Rooms\"].replace(\"?\", np.nan, inplace=True)"
      ],
      "metadata": {
        "id": "jiNNJ3CDZkf8"
      },
      "execution_count": 16,
      "outputs": []
    },
    {
      "cell_type": "code",
      "source": [
        "sns.heatmap(df.isnull(), yticklabels=False, cbar=False, cmap=\"viridis\")"
      ],
      "metadata": {
        "colab": {
          "base_uri": "https://localhost:8080/",
          "height": 429
        },
        "id": "U-X2RGYVbcU6",
        "outputId": "2016b0a4-91ee-497e-9e07-47a1916a265b"
      },
      "execution_count": 17,
      "outputs": [
        {
          "output_type": "execute_result",
          "data": {
            "text/plain": [
              "<matplotlib.axes._subplots.AxesSubplot at 0x7faf53b57a90>"
            ]
          },
          "metadata": {},
          "execution_count": 17
        },
        {
          "output_type": "display_data",
          "data": {
            "text/plain": [
              "<Figure size 432x288 with 1 Axes>"
            ],
            "image/png": "[encoded data removed]"
          },
          "metadata": {
            "needs_background": "light"
          }
        }
      ]
    },
    {
      "cell_type": "code",
      "source": [
        "df.drop(\"Address\", axis=1, inplace=True)"
      ],
      "metadata": {
        "id": "tmE8V-pRlSf8"
      },
      "execution_count": 18,
      "outputs": []
    },
    {
      "cell_type": "code",
      "source": [
        "df.head()"
      ],
      "metadata": {
        "colab": {
          "base_uri": "https://localhost:8080/",
          "height": 268
        },
        "id": "kpsnh4P9lbnT",
        "outputId": "0c92c64d-1028-4a1c-f769-32576bb0c144"
      },
      "execution_count": 19,
      "outputs": [
        {
          "output_type": "execute_result",
          "data": {
            "text/plain": [
              "   ids  Avg. Area Income Avg. Area House Age Avg. Area Number of Rooms  \\\n",
              "0    0      79545.458574                 NaN                       NaN   \n",
              "1    1      79248.642455  6.0028998082752425         6.730821019094919   \n",
              "2    2      61287.067179   5.865889840310001         8.512727430375099   \n",
              "3    3      63345.240046  7.1882360945186425                       NaN   \n",
              "4    4      59982.197226   5.040554523106283         7.839387785120487   \n",
              "\n",
              "   Avg. Area Number of Bedrooms  Area Population         Price  \\\n",
              "0                           NaN     23086.800503  1.059034e+06   \n",
              "1                          3.09     40173.072174  1.505891e+06   \n",
              "2                          5.13     36882.159400  1.058988e+06   \n",
              "3                           NaN     34310.242831  1.260617e+06   \n",
              "4                          4.23     26354.109472  6.309435e+05   \n",
              "\n",
              "   Avg Area Comfort State  \n",
              "0          0.289937    NE  \n",
              "1               NaN    CA  \n",
              "2               NaN    WI  \n",
              "3               NaN    AP  \n",
              "4               NaN    AE  "
            ],
            "text/html": [
              "\n",
              "  <div id=\"df-237e9f71-881d-4021-9d9b-5f5e05e9eedc\">\n",
              "    <div class=\"colab-df-container\">\n",
              "      <div>\n",
              "<style scoped>\n",
              "    .dataframe tbody tr th:only-of-type {\n",
              "        vertical-align: middle;\n",
              "    }\n",
              "\n",
              "    .dataframe tbody tr th {\n",
              "        vertical-align: top;\n",
              "    }\n",
              "\n",
              "    .dataframe thead th {\n",
              "        text-align: right;\n",
              "    }\n",
              "</style>\n",
              "<table border=\"1\" class=\"dataframe\">\n",
              "  <thead>\n",
              "    <tr style=\"text-align: right;\">\n",
              "      <th></th>\n",
              "      <th>ids</th>\n",
              "      <th>Avg. Area Income</th>\n",
              "      <th>Avg. Area House Age</th>\n",
              "      <th>Avg. Area Number of Rooms</th>\n",
              "      <th>Avg. Area Number of Bedrooms</th>\n",
              "      <th>Area Population</th>\n",
              "      <th>Price</th>\n",
              "      <th>Avg Area Comfort</th>\n",
              "      <th>State</th>\n",
              "    </tr>\n",
              "  </thead>\n",
              "  <tbody>\n",
              "    <tr>\n",
              "      <th>0</th>\n",
              "      <td>0</td>\n",
              "      <td>79545.458574</td>\n",
              "      <td>NaN</td>\n",
              "      <td>NaN</td>\n",
              "      <td>NaN</td>\n",
              "      <td>23086.800503</td>\n",
              "      <td>1.059034e+06</td>\n",
              "      <td>0.289937</td>\n",
              "      <td>NE</td>\n",
              "    </tr>\n",
              "    <tr>\n",
              "      <th>1</th>\n",
              "      <td>1</td>\n",
              "      <td>79248.642455</td>\n",
              "      <td>6.0028998082752425</td>\n",
              "      <td>6.730821019094919</td>\n",
              "      <td>3.09</td>\n",
              "      <td>40173.072174</td>\n",
              "      <td>1.505891e+06</td>\n",
              "      <td>NaN</td>\n",
              "      <td>CA</td>\n",
              "    </tr>\n",
              "    <tr>\n",
              "      <th>2</th>\n",
              "      <td>2</td>\n",
              "      <td>61287.067179</td>\n",
              "      <td>5.865889840310001</td>\n",
              "      <td>8.512727430375099</td>\n",
              "      <td>5.13</td>\n",
              "      <td>36882.159400</td>\n",
              "      <td>1.058988e+06</td>\n",
              "      <td>NaN</td>\n",
              "      <td>WI</td>\n",
              "    </tr>\n",
              "    <tr>\n",
              "      <th>3</th>\n",
              "      <td>3</td>\n",
              "      <td>63345.240046</td>\n",
              "      <td>7.1882360945186425</td>\n",
              "      <td>NaN</td>\n",
              "      <td>NaN</td>\n",
              "      <td>34310.242831</td>\n",
              "      <td>1.260617e+06</td>\n",
              "      <td>NaN</td>\n",
              "      <td>AP</td>\n",
              "    </tr>\n",
              "    <tr>\n",
              "      <th>4</th>\n",
              "      <td>4</td>\n",
              "      <td>59982.197226</td>\n",
              "      <td>5.040554523106283</td>\n",
              "      <td>7.839387785120487</td>\n",
              "      <td>4.23</td>\n",
              "      <td>26354.109472</td>\n",
              "      <td>6.309435e+05</td>\n",
              "      <td>NaN</td>\n",
              "      <td>AE</td>\n",
              "    </tr>\n",
              "  </tbody>\n",
              "</table>\n",
              "</div>\n",
              "      <button class=\"colab-df-convert\" onclick=\"convertToInteractive('df-237e9f71-881d-4021-9d9b-5f5e05e9eedc')\"\n",
              "              title=\"Convert this dataframe to an interactive table.\"\n",
              "              style=\"display:none;\">\n",
              "        \n",
              "  <svg xmlns=\"http://www.w3.org/2000/svg\" height=\"24px\"viewBox=\"0 0 24 24\"\n",
              "       width=\"24px\">\n",
              "    <path d=\"M0 0h24v24H0V0z\" fill=\"none\"/>\n",
              "    <path d=\"M18.56 5.44l.94 2.06.94-2.06 2.06-.94-2.06-.94-.94-2.06-.94 2.06-2.06.94zm-11 1L8.5 8.5l.94-2.06 2.06-.94-2.06-.94L8.5 2.5l-.94 2.06-2.06.94zm10 10l.94 2.06.94-2.06 2.06-.94-2.06-.94-.94-2.06-.94 2.06-2.06.94z\"/><path d=\"M17.41 7.96l-1.37-1.37c-.4-.4-.92-.59-1.43-.59-.52 0-1.04.2-1.43.59L10.3 9.45l-7.72 7.72c-.78.78-.78 2.05 0 2.83L4 21.41c.39.39.9.59 1.41.59.51 0 1.02-.2 1.41-.59l7.78-7.78 2.81-2.81c.8-.78.8-2.07 0-2.86zM5.41 20L4 18.59l7.72-7.72 1.47 1.35L5.41 20z\"/>\n",
              "  </svg>\n",
              "      </button>\n",
              "      \n",
              "  <style>\n",
              "    .colab-df-container {\n",
              "      display:flex;\n",
              "      flex-wrap:wrap;\n",
              "      gap: 12px;\n",
              "    }\n",
              "\n",
              "    .colab-df-convert {\n",
              "      background-color: #E8F0FE;\n",
              "      border: none;\n",
              "      border-radius: 50%;\n",
              "      cursor: pointer;\n",
              "      display: none;\n",
              "      fill: #1967D2;\n",
              "      height: 32px;\n",
              "      padding: 0 0 0 0;\n",
              "      width: 32px;\n",
              "    }\n",
              "\n",
              "    .colab-df-convert:hover {\n",
              "      background-color: #E2EBFA;\n",
              "      box-shadow: 0px 1px 2px rgba(60, 64, 67, 0.3), 0px 1px 3px 1px rgba(60, 64, 67, 0.15);\n",
              "      fill: #174EA6;\n",
              "    }\n",
              "\n",
              "    [theme=dark] .colab-df-convert {\n",
              "      background-color: #3B4455;\n",
              "      fill: #D2E3FC;\n",
              "    }\n",
              "\n",
              "    [theme=dark] .colab-df-convert:hover {\n",
              "      background-color: #434B5C;\n",
              "      box-shadow: 0px 1px 3px 1px rgba(0, 0, 0, 0.15);\n",
              "      filter: drop-shadow(0px 1px 2px rgba(0, 0, 0, 0.3));\n",
              "      fill: #FFFFFF;\n",
              "    }\n",
              "  </style>\n",
              "\n",
              "      <script>\n",
              "        const buttonEl =\n",
              "          document.querySelector('#df-237e9f71-881d-4021-9d9b-5f5e05e9eedc button.colab-df-convert');\n",
              "        buttonEl.style.display =\n",
              "          google.colab.kernel.accessAllowed ? 'block' : 'none';\n",
              "\n",
              "        async function convertToInteractive(key) {\n",
              "          const element = document.querySelector('#df-237e9f71-881d-4021-9d9b-5f5e05e9eedc');\n",
              "          const dataTable =\n",
              "            await google.colab.kernel.invokeFunction('convertToInteractive',\n",
              "                                                     [key], {});\n",
              "          if (!dataTable) return;\n",
              "\n",
              "          const docLinkHtml = 'Like what you see? Visit the ' +\n",
              "            '<a target=\"_blank\" href=https://colab.research.google.com/notebooks/data_table.ipynb>data table notebook</a>'\n",
              "            + ' to learn more about interactive tables.';\n",
              "          element.innerHTML = '';\n",
              "          dataTable['output_type'] = 'display_data';\n",
              "          await google.colab.output.renderOutput(dataTable, element);\n",
              "          const docLink = document.createElement('div');\n",
              "          docLink.innerHTML = docLinkHtml;\n",
              "          element.appendChild(docLink);\n",
              "        }\n",
              "      </script>\n",
              "    </div>\n",
              "  </div>\n",
              "  "
            ]
          },
          "metadata": {},
          "execution_count": 19
        }
      ]
    },
    {
      "cell_type": "code",
      "source": [
        "df[\"State\"].value_counts()"
      ],
      "metadata": {
        "colab": {
          "base_uri": "https://localhost:8080/"
        },
        "id": "4kkAzpy9lhXY",
        "outputId": "d8ccb04f-8cb5-4011-9d9c-39a578ee080d"
      },
      "execution_count": 20,
      "outputs": [
        {
          "output_type": "execute_result",
          "data": {
            "text/plain": [
              "AA    177\n",
              "AP    170\n",
              "AE    167\n",
              "GU     91\n",
              "OR     91\n",
              "     ... \n",
              "KS     67\n",
              "WI     67\n",
              "IL     64\n",
              "MD     62\n",
              "VI     55\n",
              "Name: State, Length: 62, dtype: int64"
            ]
          },
          "metadata": {},
          "execution_count": 20
        }
      ]
    },
    {
      "cell_type": "code",
      "source": [
        "from sklearn.preprocessing import OrdinalEncoder\n",
        "oe = OrdinalEncoder()\n",
        "df[[\"State\"]] = oe.fit_transform(df[[\"State\"]])"
      ],
      "metadata": {
        "id": "EB9509gFZv9M"
      },
      "execution_count": 21,
      "outputs": []
    },
    {
      "cell_type": "code",
      "source": [
        "df.State"
      ],
      "metadata": {
        "colab": {
          "base_uri": "https://localhost:8080/"
        },
        "id": "y4-HF68KbCwW",
        "outputId": "95c4aa44-e881-4fc0-fb56-96031714cd28"
      },
      "execution_count": 22,
      "outputs": [
        {
          "output_type": "execute_result",
          "data": {
            "text/plain": [
              "0       37.0\n",
              "1        8.0\n",
              "2       59.0\n",
              "3        4.0\n",
              "4        1.0\n",
              "        ... \n",
              "4995     4.0\n",
              "4996     0.0\n",
              "4997    55.0\n",
              "4998     1.0\n",
              "4999    41.0\n",
              "Name: State, Length: 5000, dtype: float64"
            ]
          },
          "metadata": {},
          "execution_count": 22
        }
      ]
    },
    {
      "cell_type": "code",
      "source": [
        "df.head()"
      ],
      "metadata": {
        "colab": {
          "base_uri": "https://localhost:8080/",
          "height": 268
        },
        "id": "TeETfUrmlpDU",
        "outputId": "00ff86ca-3fb6-42e3-c9c9-961ff472a5ac"
      },
      "execution_count": 23,
      "outputs": [
        {
          "output_type": "execute_result",
          "data": {
            "text/plain": [
              "   ids  Avg. Area Income Avg. Area House Age Avg. Area Number of Rooms  \\\n",
              "0    0      79545.458574                 NaN                       NaN   \n",
              "1    1      79248.642455  6.0028998082752425         6.730821019094919   \n",
              "2    2      61287.067179   5.865889840310001         8.512727430375099   \n",
              "3    3      63345.240046  7.1882360945186425                       NaN   \n",
              "4    4      59982.197226   5.040554523106283         7.839387785120487   \n",
              "\n",
              "   Avg. Area Number of Bedrooms  Area Population         Price  \\\n",
              "0                           NaN     23086.800503  1.059034e+06   \n",
              "1                          3.09     40173.072174  1.505891e+06   \n",
              "2                          5.13     36882.159400  1.058988e+06   \n",
              "3                           NaN     34310.242831  1.260617e+06   \n",
              "4                          4.23     26354.109472  6.309435e+05   \n",
              "\n",
              "   Avg Area Comfort  State  \n",
              "0          0.289937   37.0  \n",
              "1               NaN    8.0  \n",
              "2               NaN   59.0  \n",
              "3               NaN    4.0  \n",
              "4               NaN    1.0  "
            ],
            "text/html": [
              "\n",
              "  <div id=\"df-c592b029-829a-42c7-9f0a-92da441cc375\">\n",
              "    <div class=\"colab-df-container\">\n",
              "      <div>\n",
              "<style scoped>\n",
              "    .dataframe tbody tr th:only-of-type {\n",
              "        vertical-align: middle;\n",
              "    }\n",
              "\n",
              "    .dataframe tbody tr th {\n",
              "        vertical-align: top;\n",
              "    }\n",
              "\n",
              "    .dataframe thead th {\n",
              "        text-align: right;\n",
              "    }\n",
              "</style>\n",
              "<table border=\"1\" class=\"dataframe\">\n",
              "  <thead>\n",
              "    <tr style=\"text-align: right;\">\n",
              "      <th></th>\n",
              "      <th>ids</th>\n",
              "      <th>Avg. Area Income</th>\n",
              "      <th>Avg. Area House Age</th>\n",
              "      <th>Avg. Area Number of Rooms</th>\n",
              "      <th>Avg. Area Number of Bedrooms</th>\n",
              "      <th>Area Population</th>\n",
              "      <th>Price</th>\n",
              "      <th>Avg Area Comfort</th>\n",
              "      <th>State</th>\n",
              "    </tr>\n",
              "  </thead>\n",
              "  <tbody>\n",
              "    <tr>\n",
              "      <th>0</th>\n",
              "      <td>0</td>\n",
              "      <td>79545.458574</td>\n",
              "      <td>NaN</td>\n",
              "      <td>NaN</td>\n",
              "      <td>NaN</td>\n",
              "      <td>23086.800503</td>\n",
              "      <td>1.059034e+06</td>\n",
              "      <td>0.289937</td>\n",
              "      <td>37.0</td>\n",
              "    </tr>\n",
              "    <tr>\n",
              "      <th>1</th>\n",
              "      <td>1</td>\n",
              "      <td>79248.642455</td>\n",
              "      <td>6.0028998082752425</td>\n",
              "      <td>6.730821019094919</td>\n",
              "      <td>3.09</td>\n",
              "      <td>40173.072174</td>\n",
              "      <td>1.505891e+06</td>\n",
              "      <td>NaN</td>\n",
              "      <td>8.0</td>\n",
              "    </tr>\n",
              "    <tr>\n",
              "      <th>2</th>\n",
              "      <td>2</td>\n",
              "      <td>61287.067179</td>\n",
              "      <td>5.865889840310001</td>\n",
              "      <td>8.512727430375099</td>\n",
              "      <td>5.13</td>\n",
              "      <td>36882.159400</td>\n",
              "      <td>1.058988e+06</td>\n",
              "      <td>NaN</td>\n",
              "      <td>59.0</td>\n",
              "    </tr>\n",
              "    <tr>\n",
              "      <th>3</th>\n",
              "      <td>3</td>\n",
              "      <td>63345.240046</td>\n",
              "      <td>7.1882360945186425</td>\n",
              "      <td>NaN</td>\n",
              "      <td>NaN</td>\n",
              "      <td>34310.242831</td>\n",
              "      <td>1.260617e+06</td>\n",
              "      <td>NaN</td>\n",
              "      <td>4.0</td>\n",
              "    </tr>\n",
              "    <tr>\n",
              "      <th>4</th>\n",
              "      <td>4</td>\n",
              "      <td>59982.197226</td>\n",
              "      <td>5.040554523106283</td>\n",
              "      <td>7.839387785120487</td>\n",
              "      <td>4.23</td>\n",
              "      <td>26354.109472</td>\n",
              "      <td>6.309435e+05</td>\n",
              "      <td>NaN</td>\n",
              "      <td>1.0</td>\n",
              "    </tr>\n",
              "  </tbody>\n",
              "</table>\n",
              "</div>\n",
              "      <button class=\"colab-df-convert\" onclick=\"convertToInteractive('df-c592b029-829a-42c7-9f0a-92da441cc375')\"\n",
              "              title=\"Convert this dataframe to an interactive table.\"\n",
              "              style=\"display:none;\">\n",
              "        \n",
              "  <svg xmlns=\"http://www.w3.org/2000/svg\" height=\"24px\"viewBox=\"0 0 24 24\"\n",
              "       width=\"24px\">\n",
              "    <path d=\"M0 0h24v24H0V0z\" fill=\"none\"/>\n",
              "    <path d=\"M18.56 5.44l.94 2.06.94-2.06 2.06-.94-2.06-.94-.94-2.06-.94 2.06-2.06.94zm-11 1L8.5 8.5l.94-2.06 2.06-.94-2.06-.94L8.5 2.5l-.94 2.06-2.06.94zm10 10l.94 2.06.94-2.06 2.06-.94-2.06-.94-.94-2.06-.94 2.06-2.06.94z\"/><path d=\"M17.41 7.96l-1.37-1.37c-.4-.4-.92-.59-1.43-.59-.52 0-1.04.2-1.43.59L10.3 9.45l-7.72 7.72c-.78.78-.78 2.05 0 2.83L4 21.41c.39.39.9.59 1.41.59.51 0 1.02-.2 1.41-.59l7.78-7.78 2.81-2.81c.8-.78.8-2.07 0-2.86zM5.41 20L4 18.59l7.72-7.72 1.47 1.35L5.41 20z\"/>\n",
              "  </svg>\n",
              "      </button>\n",
              "      \n",
              "  <style>\n",
              "    .colab-df-container {\n",
              "      display:flex;\n",
              "      flex-wrap:wrap;\n",
              "      gap: 12px;\n",
              "    }\n",
              "\n",
              "    .colab-df-convert {\n",
              "      background-color: #E8F0FE;\n",
              "      border: none;\n",
              "      border-radius: 50%;\n",
              "      cursor: pointer;\n",
              "      display: none;\n",
              "      fill: #1967D2;\n",
              "      height: 32px;\n",
              "      padding: 0 0 0 0;\n",
              "      width: 32px;\n",
              "    }\n",
              "\n",
              "    .colab-df-convert:hover {\n",
              "      background-color: #E2EBFA;\n",
              "      box-shadow: 0px 1px 2px rgba(60, 64, 67, 0.3), 0px 1px 3px 1px rgba(60, 64, 67, 0.15);\n",
              "      fill: #174EA6;\n",
              "    }\n",
              "\n",
              "    [theme=dark] .colab-df-convert {\n",
              "      background-color: #3B4455;\n",
              "      fill: #D2E3FC;\n",
              "    }\n",
              "\n",
              "    [theme=dark] .colab-df-convert:hover {\n",
              "      background-color: #434B5C;\n",
              "      box-shadow: 0px 1px 3px 1px rgba(0, 0, 0, 0.15);\n",
              "      filter: drop-shadow(0px 1px 2px rgba(0, 0, 0, 0.3));\n",
              "      fill: #FFFFFF;\n",
              "    }\n",
              "  </style>\n",
              "\n",
              "      <script>\n",
              "        const buttonEl =\n",
              "          document.querySelector('#df-c592b029-829a-42c7-9f0a-92da441cc375 button.colab-df-convert');\n",
              "        buttonEl.style.display =\n",
              "          google.colab.kernel.accessAllowed ? 'block' : 'none';\n",
              "\n",
              "        async function convertToInteractive(key) {\n",
              "          const element = document.querySelector('#df-c592b029-829a-42c7-9f0a-92da441cc375');\n",
              "          const dataTable =\n",
              "            await google.colab.kernel.invokeFunction('convertToInteractive',\n",
              "                                                     [key], {});\n",
              "          if (!dataTable) return;\n",
              "\n",
              "          const docLinkHtml = 'Like what you see? Visit the ' +\n",
              "            '<a target=\"_blank\" href=https://colab.research.google.com/notebooks/data_table.ipynb>data table notebook</a>'\n",
              "            + ' to learn more about interactive tables.';\n",
              "          element.innerHTML = '';\n",
              "          dataTable['output_type'] = 'display_data';\n",
              "          await google.colab.output.renderOutput(dataTable, element);\n",
              "          const docLink = document.createElement('div');\n",
              "          docLink.innerHTML = docLinkHtml;\n",
              "          element.appendChild(docLink);\n",
              "        }\n",
              "      </script>\n",
              "    </div>\n",
              "  </div>\n",
              "  "
            ]
          },
          "metadata": {},
          "execution_count": 23
        }
      ]
    },
    {
      "cell_type": "code",
      "source": [
        "df.info()"
      ],
      "metadata": {
        "colab": {
          "base_uri": "https://localhost:8080/"
        },
        "id": "JdqUfwlTlqI1",
        "outputId": "09130ef7-a64f-4d69-a40a-17ca44a9c575"
      },
      "execution_count": 24,
      "outputs": [
        {
          "output_type": "stream",
          "name": "stdout",
          "text": [
            "<class 'pandas.core.frame.DataFrame'>\n",
            "RangeIndex: 5000 entries, 0 to 4999\n",
            "Data columns (total 9 columns):\n",
            " #   Column                        Non-Null Count  Dtype  \n",
            "---  ------                        --------------  -----  \n",
            " 0   ids                           5000 non-null   int64  \n",
            " 1   Avg. Area Income              5000 non-null   float64\n",
            " 2   Avg. Area House Age           4995 non-null   object \n",
            " 3   Avg. Area Number of Rooms     3333 non-null   object \n",
            " 4   Avg. Area Number of Bedrooms  3333 non-null   float64\n",
            " 5   Area Population               5000 non-null   float64\n",
            " 6   Price                         5000 non-null   float64\n",
            " 7   Avg Area Comfort              200 non-null    float64\n",
            " 8   State                         5000 non-null   float64\n",
            "dtypes: float64(6), int64(1), object(2)\n",
            "memory usage: 351.7+ KB\n"
          ]
        }
      ]
    },
    {
      "cell_type": "code",
      "source": [
        "sns.heatmap(df.isnull(), yticklabels=False, cbar=False, cmap=\"viridis\")"
      ],
      "metadata": {
        "colab": {
          "base_uri": "https://localhost:8080/",
          "height": 429
        },
        "id": "7ebP6stjmLMW",
        "outputId": "af13d457-901d-4fff-bf74-14c85d4c9259"
      },
      "execution_count": 25,
      "outputs": [
        {
          "output_type": "execute_result",
          "data": {
            "text/plain": [
              "<matplotlib.axes._subplots.AxesSubplot at 0x7faf512ad5d0>"
            ]
          },
          "metadata": {},
          "execution_count": 25
        },
        {
          "output_type": "display_data",
          "data": {
            "text/plain": [
              "<Figure size 432x288 with 1 Axes>"
            ],
            "image/png": "[encoded data removed]"
          },
          "metadata": {
            "needs_background": "light"
          }
        }
      ]
    },
    {
      "cell_type": "code",
      "source": [
        "df.drop(\"Avg Area Comfort\", axis=1, inplace=True)"
      ],
      "metadata": {
        "id": "vykPKYkMmVXc"
      },
      "execution_count": 26,
      "outputs": []
    },
    {
      "cell_type": "code",
      "source": [
        "from sklearn.impute import SimpleImputer\n",
        "si = SimpleImputer(missing_values=np.nan, strategy=\"mean\")\n",
        "df.iloc[:, [3,4]] = si.fit_transform(df.iloc[:, [3,4]])"
      ],
      "metadata": {
        "id": "fRy9vv-SmvQr"
      },
      "execution_count": 27,
      "outputs": []
    },
    {
      "cell_type": "code",
      "source": [
        "sns.heatmap(df.isnull(), yticklabels=False, cbar=False, cmap=\"viridis\")"
      ],
      "metadata": {
        "colab": {
          "base_uri": "https://localhost:8080/",
          "height": 429
        },
        "id": "VWj3bxpwmiXC",
        "outputId": "1b43fc96-b4b1-4aaa-db40-b61a8c5981a4"
      },
      "execution_count": 28,
      "outputs": [
        {
          "output_type": "execute_result",
          "data": {
            "text/plain": [
              "<matplotlib.axes._subplots.AxesSubplot at 0x7faf50995250>"
            ]
          },
          "metadata": {},
          "execution_count": 28
        },
        {
          "output_type": "display_data",
          "data": {
            "text/plain": [
              "<Figure size 432x288 with 1 Axes>"
            ],
            "image/png": "[encoded data removed]"
          },
          "metadata": {
            "needs_background": "light"
          }
        }
      ]
    },
    {
      "cell_type": "code",
      "source": [
        "df.info()"
      ],
      "metadata": {
        "colab": {
          "base_uri": "https://localhost:8080/"
        },
        "id": "YEXwcao5mmZZ",
        "outputId": "cf658974-9ed9-46ef-99c4-54c8923e1b64"
      },
      "execution_count": 29,
      "outputs": [
        {
          "output_type": "stream",
          "name": "stdout",
          "text": [
            "<class 'pandas.core.frame.DataFrame'>\n",
            "RangeIndex: 5000 entries, 0 to 4999\n",
            "Data columns (total 8 columns):\n",
            " #   Column                        Non-Null Count  Dtype  \n",
            "---  ------                        --------------  -----  \n",
            " 0   ids                           5000 non-null   int64  \n",
            " 1   Avg. Area Income              5000 non-null   float64\n",
            " 2   Avg. Area House Age           4995 non-null   object \n",
            " 3   Avg. Area Number of Rooms     5000 non-null   float64\n",
            " 4   Avg. Area Number of Bedrooms  5000 non-null   float64\n",
            " 5   Area Population               5000 non-null   float64\n",
            " 6   Price                         5000 non-null   float64\n",
            " 7   State                         5000 non-null   float64\n",
            "dtypes: float64(6), int64(1), object(1)\n",
            "memory usage: 312.6+ KB\n"
          ]
        }
      ]
    },
    {
      "cell_type": "code",
      "source": [
        "df.dropna(inplace=True)"
      ],
      "metadata": {
        "id": "vLTGZgSMmqJo"
      },
      "execution_count": 57,
      "outputs": []
    },
    {
      "cell_type": "code",
      "source": [
        "df[\"Avg. Area House Age\"] = df[\"Avg. Area House Age\"].astype(float)"
      ],
      "metadata": {
        "id": "6VaebPyHZwRi"
      },
      "execution_count": 61,
      "outputs": []
    },
    {
      "cell_type": "code",
      "source": [
        "x = df.drop([\"ids\", \"Price\"], axis=1)\n",
        "y = df[\"Price\"]"
      ],
      "metadata": {
        "id": "6pS-Jpa2nKux"
      },
      "execution_count": 62,
      "outputs": []
    },
    {
      "cell_type": "code",
      "source": [
        "x.info()"
      ],
      "metadata": {
        "colab": {
          "base_uri": "https://localhost:8080/"
        },
        "id": "JQEjUDV-8Zb2",
        "outputId": "8513b08c-a941-4085-86e6-b1ab74aa2417"
      },
      "execution_count": 63,
      "outputs": [
        {
          "output_type": "stream",
          "name": "stdout",
          "text": [
            "<class 'pandas.core.frame.DataFrame'>\n",
            "Int64Index: 4995 entries, 1 to 4999\n",
            "Data columns (total 6 columns):\n",
            " #   Column                        Non-Null Count  Dtype  \n",
            "---  ------                        --------------  -----  \n",
            " 0   Avg. Area Income              4995 non-null   float64\n",
            " 1   Avg. Area House Age           4995 non-null   float64\n",
            " 2   Avg. Area Number of Rooms     4995 non-null   float64\n",
            " 3   Avg. Area Number of Bedrooms  4995 non-null   float64\n",
            " 4   Area Population               4995 non-null   float64\n",
            " 5   State                         4995 non-null   float64\n",
            "dtypes: float64(6)\n",
            "memory usage: 273.2 KB\n"
          ]
        }
      ]
    },
    {
      "cell_type": "code",
      "source": [
        "y.shape"
      ],
      "metadata": {
        "colab": {
          "base_uri": "https://localhost:8080/"
        },
        "id": "JPVXrQyKe9LY",
        "outputId": "47314c1e-8afe-4689-b495-0ecfb2bea5c9"
      },
      "execution_count": 65,
      "outputs": [
        {
          "output_type": "execute_result",
          "data": {
            "text/plain": [
              "(4995,)"
            ]
          },
          "metadata": {},
          "execution_count": 65
        }
      ]
    },
    {
      "cell_type": "code",
      "source": [
        "from sklearn.model_selection import train_test_split\n",
        "xtrain, xtest, ytrain, ytest = train_test_split(x, y, test_size=.3, random_state=1)"
      ],
      "metadata": {
        "id": "3gqgMFs6nXXR"
      },
      "execution_count": 66,
      "outputs": []
    },
    {
      "cell_type": "code",
      "source": [
        "def mymodel(model):\n",
        "  model.fit(xtrain, ytrain)\n",
        "  ypred = model.predict(xtest)\n",
        "\n",
        "  train = model.score(xtrain, ytrain)\n",
        "  test = model.score(xtest, ytest)\n",
        "  print(f\"Training Accuracy = {train}\")\n",
        "  print(f\"Testing Accuracy = {test}\")\n",
        "\n",
        "  mse = mean_squared_error(ytest, ypred)\n",
        "  rmse = np.sqrt(mse)\n",
        "\n",
        "  print(f\"MSE : {mse}\\nRMSE : {rmse}\")"
      ],
      "metadata": {
        "id": "jJjcrCPTn0G1"
      },
      "execution_count": 67,
      "outputs": []
    },
    {
      "cell_type": "code",
      "source": [
        "from sklearn.metrics import mean_squared_error, r2_score"
      ],
      "metadata": {
        "id": "yejI0k1_75zs"
      },
      "execution_count": 68,
      "outputs": []
    },
    {
      "cell_type": "code",
      "source": [
        "from sklearn.linear_model import LinearRegression\n",
        "from sklearn.svm import SVR\n",
        "from sklearn.ensemble import RandomForestRegressor"
      ],
      "metadata": {
        "id": "YOZpmQbqpJTg"
      },
      "execution_count": 69,
      "outputs": []
    },
    {
      "cell_type": "code",
      "source": [
        "mymodel(LinearRegression())"
      ],
      "metadata": {
        "colab": {
          "base_uri": "https://localhost:8080/"
        },
        "id": "HqtJ4SsM6YED",
        "outputId": "771e99a6-e5bc-4870-a432-63d2c2cafa04"
      },
      "execution_count": 70,
      "outputs": [
        {
          "output_type": "stream",
          "name": "stdout",
          "text": [
            "Training Accuracy = 0.8821635260384509\n",
            "Testing Accuracy = 0.875537413464109\n",
            "MSE : 15948549500.188505\n",
            "RMSE : 126287.56668884117\n"
          ]
        }
      ]
    },
    {
      "cell_type": "code",
      "source": [
        "mymodel(RandomForestRegressor())"
      ],
      "metadata": {
        "colab": {
          "base_uri": "https://localhost:8080/"
        },
        "id": "Ib2wtzYk662o",
        "outputId": "c787ea6e-cfbc-4024-c744-964ee1bf1552"
      },
      "execution_count": 71,
      "outputs": [
        {
          "output_type": "stream",
          "name": "stdout",
          "text": [
            "Training Accuracy = 0.9778617087669614\n",
            "Testing Accuracy = 0.8360792114176924\n",
            "MSE : 21004696138.634296\n",
            "RMSE : 144929.969773799\n"
          ]
        }
      ]
    },
    {
      "cell_type": "code",
      "source": [
        "mymodel(SVR())"
      ],
      "metadata": {
        "colab": {
          "base_uri": "https://localhost:8080/"
        },
        "id": "_BrRBNQy9Mkt",
        "outputId": "ecfd8295-1458-4306-8aee-87f2da1c9b13"
      },
      "execution_count": 72,
      "outputs": [
        {
          "output_type": "stream",
          "name": "stdout",
          "text": [
            "Training Accuracy = 0.00029055001610811537\n",
            "Testing Accuracy = -0.0020859443569827274\n",
            "MSE : 128406597772.35014\n",
            "RMSE : 358338.66351867496\n"
          ]
        }
      ]
    },
    {
      "cell_type": "code",
      "source": [
        "from sklearn.preprocessing import StandardScaler\n",
        "sc = StandardScaler()\n",
        "xtrain = sc.fit_transform(xtrain)\n",
        "xtest = sc.transform(xtest)"
      ],
      "metadata": {
        "id": "Y155bByn9Q4j"
      },
      "execution_count": 73,
      "outputs": []
    },
    {
      "cell_type": "code",
      "source": [
        "mymodel(SVR())"
      ],
      "metadata": {
        "colab": {
          "base_uri": "https://localhost:8080/"
        },
        "id": "Z-Bzd_LS9veQ",
        "outputId": "30ce12f0-3060-499b-df17-4d14d2a95704"
      },
      "execution_count": 75,
      "outputs": [
        {
          "output_type": "stream",
          "name": "stdout",
          "text": [
            "Training Accuracy = 0.0005821131960349613\n",
            "Testing Accuracy = -0.0018110420085084566\n",
            "MSE : 128371371976.11383\n",
            "RMSE : 358289.5086045834\n"
          ]
        }
      ]
    },
    {
      "cell_type": "code",
      "source": [
        "mymodel(SVR(kernel = \"linear\"))"
      ],
      "metadata": {
        "colab": {
          "base_uri": "https://localhost:8080/"
        },
        "id": "-15bP0E191Xo",
        "outputId": "ef4e06e6-38e0-4e52-a01b-77ff41847c76"
      },
      "execution_count": 76,
      "outputs": [
        {
          "output_type": "stream",
          "name": "stdout",
          "text": [
            "Training Accuracy = 0.013823985068040279\n",
            "Testing Accuracy = 0.011365296932217883\n",
            "MSE : 126682965044.551\n",
            "RMSE : 355925.5049087533\n"
          ]
        }
      ]
    },
    {
      "cell_type": "code",
      "source": [
        "parameters = {\n",
        "    \"kernel\":[\"linear\"],\n",
        "    \"C\": [0.1, 1,10,100,1000,10000,100000]\n",
        "}"
      ],
      "metadata": {
        "id": "irZuCEHT-Ahu"
      },
      "execution_count": 77,
      "outputs": []
    },
    {
      "cell_type": "code",
      "source": [
        "from sklearn.model_selection import GridSearchCV\n",
        "grid = GridSearchCV(SVR(), parameters, cv=5, verbose=3)"
      ],
      "metadata": {
        "id": "WyxIXsKj-VRS"
      },
      "execution_count": 78,
      "outputs": []
    },
    {
      "cell_type": "code",
      "source": [
        "grid.fit(xtrain, ytrain)"
      ],
      "metadata": {
        "colab": {
          "base_uri": "https://localhost:8080/"
        },
        "id": "lqttEqRI-nQ9",
        "outputId": "204075d6-e252-4d3a-d6ae-61959f4602b6"
      },
      "execution_count": 79,
      "outputs": [
        {
          "output_type": "stream",
          "name": "stdout",
          "text": [
            "Fitting 5 folds for each of 7 candidates, totalling 35 fits\n",
            "[CV 1/5] END .............C=0.1, kernel=linear;, score=-0.001 total time=   0.3s\n",
            "[CV 2/5] END ..............C=0.1, kernel=linear;, score=0.001 total time=   0.3s\n",
            "[CV 3/5] END ..............C=0.1, kernel=linear;, score=0.001 total time=   0.3s\n",
            "[CV 4/5] END ..............C=0.1, kernel=linear;, score=0.001 total time=   0.3s\n",
            "[CV 5/5] END ..............C=0.1, kernel=linear;, score=0.001 total time=   0.3s\n",
            "[CV 1/5] END ................C=1, kernel=linear;, score=0.009 total time=   0.3s\n",
            "[CV 2/5] END ................C=1, kernel=linear;, score=0.011 total time=   0.3s\n",
            "[CV 3/5] END ................C=1, kernel=linear;, score=0.011 total time=   0.3s\n",
            "[CV 4/5] END ................C=1, kernel=linear;, score=0.011 total time=   0.3s\n",
            "[CV 5/5] END ................C=1, kernel=linear;, score=0.011 total time=   0.3s\n",
            "[CV 1/5] END ...............C=10, kernel=linear;, score=0.105 total time=   0.3s\n",
            "[CV 2/5] END ...............C=10, kernel=linear;, score=0.108 total time=   0.3s\n",
            "[CV 3/5] END ...............C=10, kernel=linear;, score=0.106 total time=   0.3s\n",
            "[CV 4/5] END ...............C=10, kernel=linear;, score=0.106 total time=   0.3s\n",
            "[CV 5/5] END ...............C=10, kernel=linear;, score=0.108 total time=   0.3s\n",
            "[CV 1/5] END ..............C=100, kernel=linear;, score=0.680 total time=   0.3s\n",
            "[CV 2/5] END ..............C=100, kernel=linear;, score=0.695 total time=   0.3s\n",
            "[CV 3/5] END ..............C=100, kernel=linear;, score=0.677 total time=   0.3s\n",
            "[CV 4/5] END ..............C=100, kernel=linear;, score=0.681 total time=   0.3s\n",
            "[CV 5/5] END ..............C=100, kernel=linear;, score=0.691 total time=   0.3s\n",
            "[CV 1/5] END .............C=1000, kernel=linear;, score=0.866 total time=   0.3s\n",
            "[CV 2/5] END .............C=1000, kernel=linear;, score=0.884 total time=   0.3s\n",
            "[CV 3/5] END .............C=1000, kernel=linear;, score=0.878 total time=   0.3s\n",
            "[CV 4/5] END .............C=1000, kernel=linear;, score=0.878 total time=   0.3s\n",
            "[CV 5/5] END .............C=1000, kernel=linear;, score=0.889 total time=   0.3s\n",
            "[CV 1/5] END ............C=10000, kernel=linear;, score=0.868 total time=   0.4s\n",
            "[CV 2/5] END ............C=10000, kernel=linear;, score=0.886 total time=   0.4s\n",
            "[CV 3/5] END ............C=10000, kernel=linear;, score=0.883 total time=   0.4s\n",
            "[CV 4/5] END ............C=10000, kernel=linear;, score=0.880 total time=   0.4s\n",
            "[CV 5/5] END ............C=10000, kernel=linear;, score=0.890 total time=   0.4s\n",
            "[CV 1/5] END ...........C=100000, kernel=linear;, score=0.868 total time=   0.6s\n",
            "[CV 2/5] END ...........C=100000, kernel=linear;, score=0.886 total time=   0.6s\n",
            "[CV 3/5] END ...........C=100000, kernel=linear;, score=0.883 total time=   0.6s\n",
            "[CV 4/5] END ...........C=100000, kernel=linear;, score=0.880 total time=   0.6s\n",
            "[CV 5/5] END ...........C=100000, kernel=linear;, score=0.890 total time=   0.6s\n"
          ]
        },
        {
          "output_type": "execute_result",
          "data": {
            "text/plain": [
              "GridSearchCV(cv=5, estimator=SVR(),\n",
              "             param_grid={'C': [0.1, 1, 10, 100, 1000, 10000, 100000],\n",
              "                         'kernel': ['linear']},\n",
              "             verbose=3)"
            ]
          },
          "metadata": {},
          "execution_count": 79
        }
      ]
    },
    {
      "cell_type": "code",
      "source": [
        "grid.best_score_"
      ],
      "metadata": {
        "colab": {
          "base_uri": "https://localhost:8080/"
        },
        "id": "3IIUZGFh-8FE",
        "outputId": "340d9865-82f7-4b35-bc9e-e6dcb85bbd9c"
      },
      "execution_count": 80,
      "outputs": [
        {
          "output_type": "execute_result",
          "data": {
            "text/plain": [
              "0.8812677522155254"
            ]
          },
          "metadata": {},
          "execution_count": 80
        }
      ]
    },
    {
      "cell_type": "code",
      "source": [
        "grid.best_params_"
      ],
      "metadata": {
        "colab": {
          "base_uri": "https://localhost:8080/"
        },
        "id": "qflwkaZ1_AlA",
        "outputId": "85762e66-17fd-4600-fedc-6c780915c59d"
      },
      "execution_count": 81,
      "outputs": [
        {
          "output_type": "execute_result",
          "data": {
            "text/plain": [
              "{'C': 10000, 'kernel': 'linear'}"
            ]
          },
          "metadata": {},
          "execution_count": 81
        }
      ]
    },
    {
      "cell_type": "code",
      "source": [
        "grid.best_estimator_"
      ],
      "metadata": {
        "colab": {
          "base_uri": "https://localhost:8080/"
        },
        "id": "N0k5R5us_E3w",
        "outputId": "0f1351fa-68f9-4176-c01b-49269efe4e81"
      },
      "execution_count": 82,
      "outputs": [
        {
          "output_type": "execute_result",
          "data": {
            "text/plain": [
              "SVR(C=10000, kernel='linear')"
            ]
          },
          "metadata": {},
          "execution_count": 82
        }
      ]
    },
    {
      "cell_type": "code",
      "source": [
        "mymodel(grid.best_estimator_)"
      ],
      "metadata": {
        "colab": {
          "base_uri": "https://localhost:8080/"
        },
        "id": "4IGJdLN8_HQ5",
        "outputId": "a56783d4-2fa4-4b7d-d185-0f4e9140402a"
      },
      "execution_count": 83,
      "outputs": [
        {
          "output_type": "stream",
          "name": "stdout",
          "text": [
            "Training Accuracy = 0.8821396073949528\n",
            "Testing Accuracy = 0.8755307887748632\n",
            "MSE : 15949398383.272974\n",
            "RMSE : 126290.92755725952\n"
          ]
        }
      ]
    },
    {
      "cell_type": "code",
      "source": [
        "from sklearn.model_selection import cross_validate\n",
        "cv = cross_validate(SVR(), x, y, cv=3)"
      ],
      "metadata": {
        "id": "y8YP4p3R_M1Y"
      },
      "execution_count": 84,
      "outputs": []
    },
    {
      "cell_type": "code",
      "source": [
        "cv"
      ],
      "metadata": {
        "colab": {
          "base_uri": "https://localhost:8080/"
        },
        "id": "B_r9vGBofpN-",
        "outputId": "905d095a-f891-4f5d-f992-1e6f033b9b1f"
      },
      "execution_count": 85,
      "outputs": [
        {
          "output_type": "execute_result",
          "data": {
            "text/plain": [
              "{'fit_time': array([0.69279051, 0.68853307, 0.67818403]),\n",
              " 'score_time': array([0.32481456, 0.33476686, 0.32744169]),\n",
              " 'test_score': array([-0.00088953,  0.00019184, -0.00220275])}"
            ]
          },
          "metadata": {},
          "execution_count": 85
        }
      ]
    },
    {
      "cell_type": "code",
      "source": [
        "x.info()"
      ],
      "metadata": {
        "colab": {
          "base_uri": "https://localhost:8080/"
        },
        "id": "pycqzq2gnyQZ",
        "outputId": "15aaeff0-8faf-4e06-a496-7076218ae029"
      },
      "execution_count": 86,
      "outputs": [
        {
          "output_type": "stream",
          "name": "stdout",
          "text": [
            "<class 'pandas.core.frame.DataFrame'>\n",
            "Int64Index: 4995 entries, 1 to 4999\n",
            "Data columns (total 6 columns):\n",
            " #   Column                        Non-Null Count  Dtype  \n",
            "---  ------                        --------------  -----  \n",
            " 0   Avg. Area Income              4995 non-null   float64\n",
            " 1   Avg. Area House Age           4995 non-null   float64\n",
            " 2   Avg. Area Number of Rooms     4995 non-null   float64\n",
            " 3   Avg. Area Number of Bedrooms  4995 non-null   float64\n",
            " 4   Area Population               4995 non-null   float64\n",
            " 5   State                         4995 non-null   float64\n",
            "dtypes: float64(6)\n",
            "memory usage: 273.2 KB\n"
          ]
        }
      ]
    },
    {
      "cell_type": "code",
      "source": [
        "def newobs():\n",
        "  aai = float(input(\"Enter the Avg. Area Income: \"))\n",
        "  aaha = float(input(\"Enter the Avg. Area House Age: \"))\n",
        "  aanr = float(input(\"Enter the Avg. Area number of Rooms: \"))\n",
        "  aabr = float(input(\"Enter the Avg. Area number of Bedrooms: \"))\n",
        "  ap = float(input(\"Enter the Area Population: \"))\n",
        "  st = float(input(\"Enter the State: \"))\n",
        "\n",
        "  ip = [aai, aaha, aanr, aabr, ap, st]\n",
        "  svr = grid.best_estimator_\n",
        "  svr.fit(xtrain, ytrain)\n",
        "  yp = svr.predict([ip])[0]\n",
        "  return yp"
      ],
      "metadata": {
        "id": "AGleHlbcmjY4"
      },
      "execution_count": 108,
      "outputs": []
    },
    {
      "cell_type": "code",
      "source": [
        "newobs()"
      ],
      "metadata": {
        "colab": {
          "base_uri": "https://localhost:8080/"
        },
        "id": "E_DhSwGjrbXU",
        "outputId": "e850892d-8fb8-416c-8679-a3631ea416cf"
      },
      "execution_count": 109,
      "outputs": [
        {
          "name": "stdout",
          "output_type": "stream",
          "text": [
            "Enter the Avg. Area Income: 60000\n",
            "Enter the Avg. Area House Age: 10\n",
            "Enter the Avg. Area number of Rooms: 5\n",
            "Enter the Avg. Area number of Bedrooms: 4\n",
            "Enter the Area Population: 15000\n",
            "Enter the State: 5\n"
          ]
        },
        {
          "output_type": "execute_result",
          "data": {
            "text/plain": [
              "16052796776.363153"
            ]
          },
          "metadata": {},
          "execution_count": 109
        }
      ]
    },
    {
      "cell_type": "code",
      "source": [],
      "metadata": {
        "id": "Oe4pbnRFrdvt"
      },
      "execution_count": null,
      "outputs": []
    }
  ]
}